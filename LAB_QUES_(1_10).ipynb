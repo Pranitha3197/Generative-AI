{
  "nbformat": 4,
  "nbformat_minor": 0,
  "metadata": {
    "colab": {
      "provenance": [],
      "authorship_tag": "ABX9TyMe9uhaCDg/onedQ2HOjwnI",
      "include_colab_link": true
    },
    "kernelspec": {
      "name": "python3",
      "display_name": "Python 3"
    },
    "language_info": {
      "name": "python"
    }
  },
  "cells": [
    {
      "cell_type": "markdown",
      "metadata": {
        "id": "view-in-github",
        "colab_type": "text"
      },
      "source": [
        "<a href=\"https://colab.research.google.com/github/Pranitha3197/Generative-AI/blob/main/LAB_QUES_(1_10).ipynb\" target=\"_parent\"><img src=\"https://colab.research.google.com/assets/colab-badge.svg\" alt=\"Open In Colab\"/></a>"
      ]
    },
    {
      "cell_type": "code",
      "source": [
        "#1Q\n",
        "import numpy as np\n",
        "from sklearn.metrics import mean_squared_error\n",
        "\n",
        "# Values\n",
        "y_actual = np.array([20, 30, 40, 50])\n",
        "y_pred = np.array([20.5, 30.3, 40.2, 50.6])\n",
        "\n",
        "# MSE\n",
        "mse = mean_squared_error(y_actual, y_pred)\n",
        "\n",
        "print(f\"MSE: {mse:.2f}\")\n"
      ],
      "metadata": {
        "colab": {
          "base_uri": "https://localhost:8080/"
        },
        "id": "nfCdbfL6J-e-",
        "outputId": "22ece4b2-67c3-4dbc-f03a-df40830c1e15"
      },
      "execution_count": 9,
      "outputs": [
        {
          "output_type": "stream",
          "name": "stdout",
          "text": [
            "MSE: 0.19\n"
          ]
        }
      ]
    },
    {
      "cell_type": "code",
      "source": [
        "#2Q\n",
        "import numpy as np\n",
        "from sklearn.metrics import mean_absolute_error\n",
        "\n",
        "# Values\n",
        "y_actual = np.array([20, 30, 40, 50])\n",
        "y_pred = np.array([20.5, 30.3, 40.2, 50.6])\n",
        "\n",
        "# MAE\n",
        "mae = mean_absolute_error(y_actual, y_pred)\n",
        "\n",
        "print(f\"MAE: {mae:.2f}\")"
      ],
      "metadata": {
        "colab": {
          "base_uri": "https://localhost:8080/"
        },
        "id": "28eXGJQFKC9O",
        "outputId": "73f53f35-0cd0-4fca-d8b0-6068dc489e70"
      },
      "execution_count": 10,
      "outputs": [
        {
          "output_type": "stream",
          "name": "stdout",
          "text": [
            "MAE: 0.40\n"
          ]
        }
      ]
    },
    {
      "cell_type": "code",
      "source": [
        "#3Q\n",
        "import numpy as np\n",
        "from sklearn.metrics import mean_squared_error\n",
        "\n",
        "# Values\n",
        "y_actual = np.array([20, 30, 40, 50])\n",
        "y_pred = np.array([20.5, 30.3, 40.2, 50.6])\n",
        "\n",
        "# RMSE\n",
        "rmse = np.sqrt(mean_squared_error(y_actual, y_pred))\n",
        "\n",
        "print(f\"RMSE: {rmse:.2f}\")"
      ],
      "metadata": {
        "colab": {
          "base_uri": "https://localhost:8080/"
        },
        "id": "B9BJ90O4KM_G",
        "outputId": "39a77981-7e56-4133-c452-f4a6327d957a"
      },
      "execution_count": 11,
      "outputs": [
        {
          "output_type": "stream",
          "name": "stdout",
          "text": [
            "RMSE: 0.43\n"
          ]
        }
      ]
    },
    {
      "cell_type": "code",
      "execution_count": 1,
      "metadata": {
        "colab": {
          "base_uri": "https://localhost:8080/"
        },
        "id": "DpO6p0lHHuUx",
        "outputId": "751fc463-04ac-4d4f-b700-385800d0c2b8"
      },
      "outputs": [
        {
          "output_type": "stream",
          "name": "stdout",
          "text": [
            "Confusion Matrix:\n",
            " [[2 1 2]\n",
            " [2 1 2]\n",
            " [2 1 2]]\n",
            "Accuracy: 0.3333333333333333\n"
          ]
        }
      ],
      "source": [
        "#4Q\n",
        "import numpy as np\n",
        "from sklearn.metrics import confusion_matrix, accuracy_score\n",
        "\n",
        "# Actual and predicted values\n",
        "y_actual = np.array([0, 0, 0, 0, 0, 1, 1, 1, 1, 1, 2, 2, 2, 2, 2])\n",
        "y_pred = np.array([0, 0, 1, 2, 2, 1, 0, 2, 0, 2, 0, 0, 1, 2, 2])\n",
        "\n",
        "# Compute confusion matrix and accuracy\n",
        "conf_matrix = confusion_matrix(y_actual, y_pred)\n",
        "accuracy = accuracy_score(y_actual, y_pred)\n",
        "\n",
        "print(\"Confusion Matrix:\\n\", conf_matrix)\n",
        "print(f\"Accuracy: {accuracy}\")\n"
      ]
    },
    {
      "cell_type": "code",
      "source": [
        "#5Q\n",
        "import numpy as np\n",
        "from sklearn.metrics import confusion_matrix, accuracy_score\n",
        "\n",
        "# Actual and predicted values\n",
        "y_actual = np.array([0, 0, 0, 0, 0, 1, 1, 1, 1, 1])\n",
        "y_pred = np.array([0, 0, 1, 1, 0, 1, 0, 1, 0, 1])\n",
        "\n",
        "# Compute confusion matrix and accuracy\n",
        "conf_matrix = confusion_matrix(y_actual, y_pred)\n",
        "accuracy = accuracy_score(y_actual, y_pred)\n",
        "\n",
        "print(\"Confusion Matrix:\\n\", conf_matrix)\n",
        "print(f\"Accuracy: {accuracy}\")\n"
      ],
      "metadata": {
        "colab": {
          "base_uri": "https://localhost:8080/"
        },
        "id": "oxnI-1yRHyu7",
        "outputId": "62c1e5dc-3420-4d8a-8b51-65a6dbe48434"
      },
      "execution_count": 2,
      "outputs": [
        {
          "output_type": "stream",
          "name": "stdout",
          "text": [
            "Confusion Matrix:\n",
            " [[3 2]\n",
            " [2 3]]\n",
            "Accuracy: 0.6\n"
          ]
        }
      ]
    },
    {
      "cell_type": "code",
      "source": [
        "#6Q\n",
        "import numpy as np\n",
        "from sklearn.metrics import confusion_matrix, accuracy_score, precision_score\n",
        "\n",
        "# Actual and predicted values\n",
        "y_actual = np.array([0, 0, 0, 0, 0, 1, 1, 1, 1, 1])\n",
        "y_pred = np.array([0, 0, 1, 1, 0, 1, 0, 1, 0, 1])\n",
        "\n",
        "# Compute confusion matrix, accuracy, and precision\n",
        "conf_matrix = confusion_matrix(y_actual, y_pred)\n",
        "accuracy = accuracy_score(y_actual, y_pred)\n",
        "precision = precision_score(y_actual, y_pred, average='macro')\n",
        "\n",
        "print(\"Confusion Matrix:\\n\", conf_matrix)\n",
        "print(f\"Accuracy: {accuracy}\")\n",
        "print(f\"Precision: {precision}\")\n"
      ],
      "metadata": {
        "colab": {
          "base_uri": "https://localhost:8080/"
        },
        "id": "R4keu9N2IJ0J",
        "outputId": "29be5b55-3fe2-437b-b986-a6e04c65050b"
      },
      "execution_count": 3,
      "outputs": [
        {
          "output_type": "stream",
          "name": "stdout",
          "text": [
            "Confusion Matrix:\n",
            " [[3 2]\n",
            " [2 3]]\n",
            "Accuracy: 0.6\n",
            "Precision: 0.6\n"
          ]
        }
      ]
    },
    {
      "cell_type": "code",
      "source": [
        "#7Q\n",
        "import numpy as np\n",
        "from sklearn.metrics import confusion_matrix, accuracy_score, precision_score, recall_score\n",
        "\n",
        "# Actual and predicted values\n",
        "y_actual = np.array([0, 0, 0, 0, 0, 1, 1, 1, 1, 1])\n",
        "y_pred = np.array([0, 0, 1, 1, 0, 1, 0, 1, 0, 1])\n",
        "\n",
        "# Compute confusion matrix, accuracy, precision, and recall\n",
        "conf_matrix = confusion_matrix(y_actual, y_pred)\n",
        "accuracy = accuracy_score(y_actual, y_pred)\n",
        "precision = precision_score(y_actual, y_pred, average='macro')\n",
        "recall = recall_score(y_actual, y_pred, average='macro')\n",
        "\n",
        "print(\"Confusion Matrix:\\n\", conf_matrix)\n",
        "print(f\"Accuracy: {accuracy}\")\n",
        "print(f\"Precision: {precision}\")\n",
        "print(f\"Recall: {recall}\")\n"
      ],
      "metadata": {
        "colab": {
          "base_uri": "https://localhost:8080/"
        },
        "id": "EWDr55gNIaP_",
        "outputId": "521c3810-e347-4f24-85f8-08dda45fe0f4"
      },
      "execution_count": 4,
      "outputs": [
        {
          "output_type": "stream",
          "name": "stdout",
          "text": [
            "Confusion Matrix:\n",
            " [[3 2]\n",
            " [2 3]]\n",
            "Accuracy: 0.6\n",
            "Precision: 0.6\n",
            "Recall: 0.6\n"
          ]
        }
      ]
    },
    {
      "cell_type": "code",
      "source": [
        "#8Q\n",
        "import numpy as np\n",
        "from sklearn.metrics import confusion_matrix, accuracy_score, precision_score, recall_score, f1_score\n",
        "\n",
        "# Actual and predicted values\n",
        "y_actual = np.array([0, 0, 0, 0, 0, 1, 1, 1, 1, 1])\n",
        "y_pred = np.array([0, 0, 1, 1, 0, 1, 0, 1, 0, 1])\n",
        "\n",
        "# Compute confusion matrix, accuracy, precision, recall, and F1-score\n",
        "conf_matrix = confusion_matrix(y_actual, y_pred)\n",
        "accuracy = accuracy_score(y_actual, y_pred)\n",
        "precision = precision_score(y_actual, y_pred, average='macro')\n",
        "recall = recall_score(y_actual, y_pred, average='macro')\n",
        "f1 = f1_score(y_actual, y_pred, average='macro')\n",
        "\n",
        "print(\"Confusion Matrix:\\n\", conf_matrix)\n",
        "print(f\"Accuracy: {accuracy}\")\n",
        "print(f\"Precision: {precision}\")\n",
        "print(f\"Recall: {recall}\")\n",
        "print(f\"F1 Score: {f1}\")\n"
      ],
      "metadata": {
        "colab": {
          "base_uri": "https://localhost:8080/"
        },
        "id": "rcmdlD1uIpiI",
        "outputId": "c67f99ca-1e5f-4e22-985a-77aa02e657f4"
      },
      "execution_count": 6,
      "outputs": [
        {
          "output_type": "stream",
          "name": "stdout",
          "text": [
            "Confusion Matrix:\n",
            " [[3 2]\n",
            " [2 3]]\n",
            "Accuracy: 0.6\n",
            "Precision: 0.6\n",
            "Recall: 0.6\n",
            "F1 Score: 0.6\n"
          ]
        }
      ]
    },
    {
      "cell_type": "code",
      "source": [
        "#9Q\n",
        "from scipy.optimize import linprog\n",
        "\n",
        "# Coefficients for the objective function (maximize P = 4X + 5Y + 6Z)\n",
        "c = [-4, -5, -6]\n",
        "\n",
        "# Constraints\n",
        "A = [[2, 1, 1], [4, 3, 0]]\n",
        "b = [14, 20]\n",
        "\n",
        "# Bounds for variables\n",
        "bounds = [(0, None)] * 3\n",
        "\n",
        "# Solve the problem\n",
        "result = linprog(c, A_ub=A, b_ub=b, bounds=bounds, method='highs')\n",
        "\n",
        "# Print results\n",
        "print(f\"X = {result.x[0]:.2f}, Y = {result.x[1]:.2f}, Z = {result.x[2]:.2f}\")\n",
        "print(f\"Max P = {-result.fun:.2f}\")\n"
      ],
      "metadata": {
        "colab": {
          "base_uri": "https://localhost:8080/"
        },
        "id": "q-KfAIvKI7aB",
        "outputId": "bbf5c7fe-0ed5-4242-8f1c-38ecace9bb0f"
      },
      "execution_count": 7,
      "outputs": [
        {
          "output_type": "stream",
          "name": "stdout",
          "text": [
            "X = 0.00, Y = 0.00, Z = 14.00\n",
            "Max P = 84.00\n"
          ]
        }
      ]
    },
    {
      "cell_type": "code",
      "source": [
        "#10Q\n",
        "from scipy.optimize import linprog\n",
        "\n",
        "# Coefficients for the objective function (maximize P = 40A + 30B)\n",
        "c = [-40, -30]\n",
        "\n",
        "# Constraints\n",
        "A = [[1, 2], [2, 3]]\n",
        "b = [40, 60]\n",
        "\n",
        "# Bounds for variables\n",
        "bounds = [(0, None)] * 2\n",
        "\n",
        "# Solve the problem\n",
        "result = linprog(c, A_ub=A, b_ub=b, bounds=bounds, method='highs')\n",
        "\n",
        "# Print results\n",
        "print(f\"A = {result.x[0]:.2f}, B = {result.x[1]:.2f}\")\n",
        "print(f\"Max P = {-result.fun:.2f}\")"
      ],
      "metadata": {
        "colab": {
          "base_uri": "https://localhost:8080/"
        },
        "id": "437HjweoJg06",
        "outputId": "e40c4d76-dad9-4ebb-f6c0-a201a692b646"
      },
      "execution_count": 8,
      "outputs": [
        {
          "output_type": "stream",
          "name": "stdout",
          "text": [
            "A = 30.00, B = 0.00\n",
            "Max P = 1200.00\n"
          ]
        }
      ]
    },
    {
      "cell_type": "code",
      "source": [],
      "metadata": {
        "id": "DoB1EcxSJq0f"
      },
      "execution_count": null,
      "outputs": []
    }
  ]
}